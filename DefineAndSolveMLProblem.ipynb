{
 "cells": [
  {
   "cell_type": "markdown",
   "metadata": {},
   "source": [
    "# Lab 8: Define and Solve an ML Problem of Your Choosing"
   ]
  },
  {
   "cell_type": "code",
   "execution_count": 2,
   "metadata": {},
   "outputs": [],
   "source": [
    "import pandas as pd\n",
    "import numpy as np\n",
    "import os \n",
    "import matplotlib.pyplot as plt\n",
    "import seaborn as sns"
   ]
  },
  {
   "cell_type": "markdown",
   "metadata": {},
   "source": [
    "In this lab assignment, you will follow the machine learning life cycle and implement a model to solve a machine learning problem of your choosing. You will select a data set and choose a predictive problem that the data set supports.  You will then inspect the data with your problem in mind and begin to formulate a  project plan. You will then implement the machine learning project plan. \n",
    "\n",
    "You will complete the following tasks:\n",
    "\n",
    "1. Build Your DataFrame\n",
    "2. Define Your ML Problem\n",
    "3. Perform exploratory data analysis to understand your data.\n",
    "4. Define Your Project Plan\n",
    "5. Implement Your Project Plan:\n",
    "    * Prepare your data for your model.\n",
    "    * Fit your model to the training data and evaluate your model.\n",
    "    * Improve your model's performance."
   ]
  },
  {
   "cell_type": "markdown",
   "metadata": {},
   "source": [
    "## Part 1: Build Your DataFrame\n",
    "\n",
    "You will have the option to choose one of four data sets that you have worked with in this program:\n",
    "\n",
    "* The \"census\" data set that contains Census information from 1994: `censusData.csv`\n",
    "* Airbnb NYC \"listings\" data set: `airbnbListingsData.csv`\n",
    "* World Happiness Report (WHR) data set: `WHR2018Chapter2OnlineData.csv`\n",
    "* Book Review data set: `bookReviewsData.csv`\n",
    "\n",
    "Note that these are variations of the data sets that you have worked with in this program. For example, some do not include some of the preprocessing necessary for specific models. \n",
    "\n",
    "#### Load a Data Set and Save it as a Pandas DataFrame\n",
    "\n",
    "The code cell below contains filenames (path + filename) for each of the four data sets available to you.\n",
    "\n",
    "<b>Task:</b> In the code cell below, use the same method you have been using to load the data using `pd.read_csv()` and save it to DataFrame `df`. \n",
    "\n",
    "You can load each file as a new DataFrame to inspect the data before choosing your data set."
   ]
  },
  {
   "cell_type": "code",
   "execution_count": 3,
   "metadata": {},
   "outputs": [
    {
     "data": {
      "text/html": [
       "<div>\n",
       "<style scoped>\n",
       "    .dataframe tbody tr th:only-of-type {\n",
       "        vertical-align: middle;\n",
       "    }\n",
       "\n",
       "    .dataframe tbody tr th {\n",
       "        vertical-align: top;\n",
       "    }\n",
       "\n",
       "    .dataframe thead th {\n",
       "        text-align: right;\n",
       "    }\n",
       "</style>\n",
       "<table border=\"1\" class=\"dataframe\">\n",
       "  <thead>\n",
       "    <tr style=\"text-align: right;\">\n",
       "      <th></th>\n",
       "      <th>country</th>\n",
       "      <th>year</th>\n",
       "      <th>Life Ladder</th>\n",
       "      <th>Log GDP per capita</th>\n",
       "      <th>Social support</th>\n",
       "      <th>Healthy life expectancy at birth</th>\n",
       "      <th>Freedom to make life choices</th>\n",
       "      <th>Generosity</th>\n",
       "      <th>Perceptions of corruption</th>\n",
       "      <th>Positive affect</th>\n",
       "      <th>Negative affect</th>\n",
       "      <th>Confidence in national government</th>\n",
       "      <th>Democratic Quality</th>\n",
       "      <th>Delivery Quality</th>\n",
       "      <th>Standard deviation of ladder by country-year</th>\n",
       "      <th>Standard deviation/Mean of ladder by country-year</th>\n",
       "      <th>GINI index (World Bank estimate)</th>\n",
       "      <th>GINI index (World Bank estimate), average 2000-15</th>\n",
       "      <th>gini of household income reported in Gallup, by wp5-year</th>\n",
       "    </tr>\n",
       "  </thead>\n",
       "  <tbody>\n",
       "    <tr>\n",
       "      <th>0</th>\n",
       "      <td>Afghanistan</td>\n",
       "      <td>2008</td>\n",
       "      <td>3.723590</td>\n",
       "      <td>7.168690</td>\n",
       "      <td>0.450662</td>\n",
       "      <td>49.209663</td>\n",
       "      <td>0.718114</td>\n",
       "      <td>0.181819</td>\n",
       "      <td>0.881686</td>\n",
       "      <td>0.517637</td>\n",
       "      <td>0.258195</td>\n",
       "      <td>0.612072</td>\n",
       "      <td>-1.929690</td>\n",
       "      <td>-1.655084</td>\n",
       "      <td>1.774662</td>\n",
       "      <td>0.476600</td>\n",
       "      <td>NaN</td>\n",
       "      <td>NaN</td>\n",
       "      <td>NaN</td>\n",
       "    </tr>\n",
       "    <tr>\n",
       "      <th>1</th>\n",
       "      <td>Afghanistan</td>\n",
       "      <td>2009</td>\n",
       "      <td>4.401778</td>\n",
       "      <td>7.333790</td>\n",
       "      <td>0.552308</td>\n",
       "      <td>49.624432</td>\n",
       "      <td>0.678896</td>\n",
       "      <td>0.203614</td>\n",
       "      <td>0.850035</td>\n",
       "      <td>0.583926</td>\n",
       "      <td>0.237092</td>\n",
       "      <td>0.611545</td>\n",
       "      <td>-2.044093</td>\n",
       "      <td>-1.635025</td>\n",
       "      <td>1.722688</td>\n",
       "      <td>0.391362</td>\n",
       "      <td>NaN</td>\n",
       "      <td>NaN</td>\n",
       "      <td>0.441906</td>\n",
       "    </tr>\n",
       "    <tr>\n",
       "      <th>2</th>\n",
       "      <td>Afghanistan</td>\n",
       "      <td>2010</td>\n",
       "      <td>4.758381</td>\n",
       "      <td>7.386629</td>\n",
       "      <td>0.539075</td>\n",
       "      <td>50.008961</td>\n",
       "      <td>0.600127</td>\n",
       "      <td>0.137630</td>\n",
       "      <td>0.706766</td>\n",
       "      <td>0.618265</td>\n",
       "      <td>0.275324</td>\n",
       "      <td>0.299357</td>\n",
       "      <td>-1.991810</td>\n",
       "      <td>-1.617176</td>\n",
       "      <td>1.878622</td>\n",
       "      <td>0.394803</td>\n",
       "      <td>NaN</td>\n",
       "      <td>NaN</td>\n",
       "      <td>0.327318</td>\n",
       "    </tr>\n",
       "    <tr>\n",
       "      <th>3</th>\n",
       "      <td>Afghanistan</td>\n",
       "      <td>2011</td>\n",
       "      <td>3.831719</td>\n",
       "      <td>7.415019</td>\n",
       "      <td>0.521104</td>\n",
       "      <td>50.367298</td>\n",
       "      <td>0.495901</td>\n",
       "      <td>0.175329</td>\n",
       "      <td>0.731109</td>\n",
       "      <td>0.611387</td>\n",
       "      <td>0.267175</td>\n",
       "      <td>0.307386</td>\n",
       "      <td>-1.919018</td>\n",
       "      <td>-1.616221</td>\n",
       "      <td>1.785360</td>\n",
       "      <td>0.465942</td>\n",
       "      <td>NaN</td>\n",
       "      <td>NaN</td>\n",
       "      <td>0.336764</td>\n",
       "    </tr>\n",
       "    <tr>\n",
       "      <th>4</th>\n",
       "      <td>Afghanistan</td>\n",
       "      <td>2012</td>\n",
       "      <td>3.782938</td>\n",
       "      <td>7.517126</td>\n",
       "      <td>0.520637</td>\n",
       "      <td>50.709263</td>\n",
       "      <td>0.530935</td>\n",
       "      <td>0.247159</td>\n",
       "      <td>0.775620</td>\n",
       "      <td>0.710385</td>\n",
       "      <td>0.267919</td>\n",
       "      <td>0.435440</td>\n",
       "      <td>-1.842996</td>\n",
       "      <td>-1.404078</td>\n",
       "      <td>1.798283</td>\n",
       "      <td>0.475367</td>\n",
       "      <td>NaN</td>\n",
       "      <td>NaN</td>\n",
       "      <td>0.344540</td>\n",
       "    </tr>\n",
       "  </tbody>\n",
       "</table>\n",
       "</div>"
      ],
      "text/plain": [
       "       country  year  Life Ladder  Log GDP per capita  Social support  \\\n",
       "0  Afghanistan  2008     3.723590            7.168690        0.450662   \n",
       "1  Afghanistan  2009     4.401778            7.333790        0.552308   \n",
       "2  Afghanistan  2010     4.758381            7.386629        0.539075   \n",
       "3  Afghanistan  2011     3.831719            7.415019        0.521104   \n",
       "4  Afghanistan  2012     3.782938            7.517126        0.520637   \n",
       "\n",
       "   Healthy life expectancy at birth  Freedom to make life choices  Generosity  \\\n",
       "0                         49.209663                      0.718114    0.181819   \n",
       "1                         49.624432                      0.678896    0.203614   \n",
       "2                         50.008961                      0.600127    0.137630   \n",
       "3                         50.367298                      0.495901    0.175329   \n",
       "4                         50.709263                      0.530935    0.247159   \n",
       "\n",
       "   Perceptions of corruption  Positive affect  Negative affect  \\\n",
       "0                   0.881686         0.517637         0.258195   \n",
       "1                   0.850035         0.583926         0.237092   \n",
       "2                   0.706766         0.618265         0.275324   \n",
       "3                   0.731109         0.611387         0.267175   \n",
       "4                   0.775620         0.710385         0.267919   \n",
       "\n",
       "   Confidence in national government  Democratic Quality  Delivery Quality  \\\n",
       "0                           0.612072           -1.929690         -1.655084   \n",
       "1                           0.611545           -2.044093         -1.635025   \n",
       "2                           0.299357           -1.991810         -1.617176   \n",
       "3                           0.307386           -1.919018         -1.616221   \n",
       "4                           0.435440           -1.842996         -1.404078   \n",
       "\n",
       "   Standard deviation of ladder by country-year  \\\n",
       "0                                      1.774662   \n",
       "1                                      1.722688   \n",
       "2                                      1.878622   \n",
       "3                                      1.785360   \n",
       "4                                      1.798283   \n",
       "\n",
       "   Standard deviation/Mean of ladder by country-year  \\\n",
       "0                                           0.476600   \n",
       "1                                           0.391362   \n",
       "2                                           0.394803   \n",
       "3                                           0.465942   \n",
       "4                                           0.475367   \n",
       "\n",
       "   GINI index (World Bank estimate)  \\\n",
       "0                               NaN   \n",
       "1                               NaN   \n",
       "2                               NaN   \n",
       "3                               NaN   \n",
       "4                               NaN   \n",
       "\n",
       "   GINI index (World Bank estimate), average 2000-15  \\\n",
       "0                                                NaN   \n",
       "1                                                NaN   \n",
       "2                                                NaN   \n",
       "3                                                NaN   \n",
       "4                                                NaN   \n",
       "\n",
       "   gini of household income reported in Gallup, by wp5-year  \n",
       "0                                                NaN         \n",
       "1                                           0.441906         \n",
       "2                                           0.327318         \n",
       "3                                           0.336764         \n",
       "4                                           0.344540         "
      ]
     },
     "execution_count": 3,
     "metadata": {},
     "output_type": "execute_result"
    }
   ],
   "source": [
    "# File names of the four data sets\n",
    "adultDataSet_filename = os.path.join(os.getcwd(), \"data\", \"censusData.csv\")\n",
    "airbnbDataSet_filename = os.path.join(os.getcwd(), \"data\", \"airbnbListingsData.csv\")\n",
    "WHRDataSet_filename = os.path.join(os.getcwd(), \"data\", \"WHR2018Chapter2OnlineData.csv\")\n",
    "bookReviewDataSet_filename = os.path.join(os.getcwd(), \"data\", \"bookReviewsData.csv\")\n",
    "\n",
    "\n",
    "df = pd.read_csv(WHRDataSet_filename, header = 0)\n",
    "\n",
    "df.head()"
   ]
  },
  {
   "cell_type": "markdown",
   "metadata": {},
   "source": [
    "## Part 2: Define Your ML Problem\n",
    "\n",
    "Next you will formulate your ML Problem. In the markdown cell below, answer the following questions:\n",
    "\n",
    "1. List the data set you have chosen.\n",
    "2. What will you be predicting? What is the label?\n",
    "3. Is this a supervised or unsupervised learning problem? Is this a clustering, classification or regression problem? Is it a binary classificaiton or multi-class classifiction problem?\n",
    "4. What are your features? (note: this list may change after your explore your data)\n",
    "5. Explain why this is an important problem. In other words, how would a company create value with a model that predicts this label?"
   ]
  },
  {
   "cell_type": "markdown",
   "metadata": {},
   "source": [
    "The data set I chose was the World Happiness dataset. I will be predicting the \"Life Ladder\" score, also known as the country's happiness, which will serve as the label. This is a supervised learning, regression problem, and all of the features included are the country, year, log GDP per capita, social support, healthy life expectancy at birth, freedom to make life choices, generosity, perceptions of corruption, positive effect, and negative effect. Only the most relevant features from the above list will be kept.\n",
    "\n",
    "This problem is important particularly in the realm of social political science, for developing an understanding of what builds a populations happiness, what patterns it might follow in the future, and how particular countries might develop. It also is important for cases such as political campaigning and economic predictions."
   ]
  },
  {
   "cell_type": "markdown",
   "metadata": {},
   "source": [
    "## Part 3: Understand Your Data\n",
    "\n",
    "The next step is to perform exploratory data analysis. Inspect and analyze your data set with your machine learning problem in mind. Consider the following as you inspect your data:\n",
    "\n",
    "1. What data preparation techniques would you like to use? These data preparation techniques may include:\n",
    "\n",
    "    * addressing missingness, such as replacing missing values with means\n",
    "    * finding and replacing outliers\n",
    "    * renaming features and labels\n",
    "    * finding and replacing outliers\n",
    "    * performing feature engineering techniques such as one-hot encoding on categorical features\n",
    "    * selecting appropriate features and removing irrelevant features\n",
    "    * performing specific data cleaning and preprocessing techniques for an NLP problem\n",
    "    * addressing class imbalance in your data sample to promote fair AI\n",
    "    \n",
    "\n",
    "2. What machine learning model (or models) you would like to use that is suitable for your predictive problem and data?\n",
    "    * Are there other data preparation techniques that you will need to apply to build a balanced modeling data set for your problem and model? For example, will you need to scale your data?\n",
    " \n",
    " \n",
    "3. How will you evaluate and improve the model's performance?\n",
    "    * Are there specific evaluation metrics and methods that are appropriate for your model?\n",
    "    \n",
    "\n",
    "Think of the different techniques you have used to inspect and analyze your data in this course. These include using Pandas to apply data filters, using the Pandas `describe()` method to get insight into key statistics for each column, using the Pandas `dtypes` property to inspect the data type of each column, and using Matplotlib and Seaborn to detect outliers and visualize relationships between features and labels. If you are working on a classification problem, use techniques you have learned to determine if there is class imbalance.\n",
    "\n",
    "<b>Task</b>: Use the techniques you have learned in this course to inspect and analyze your data. You can import additional packages that you have used in this course that you will need to perform this task.\n",
    "\n",
    "<b>Note</b>: You can add code cells if needed by going to the <b>Insert</b> menu and clicking on <b>Insert Cell Below</b> in the drop-drown menu."
   ]
  },
  {
   "cell_type": "code",
   "execution_count": 4,
   "metadata": {},
   "outputs": [
    {
     "name": "stdout",
     "output_type": "stream",
     "text": [
      "(1562, 19)\n",
      "              year  Life Ladder  Log GDP per capita  Social support  \\\n",
      "count  1562.000000  1562.000000         1535.000000     1549.000000   \n",
      "mean   2011.820743     5.433676            9.220822        0.810669   \n",
      "std       3.419787     1.121017            1.184035        0.119370   \n",
      "min    2005.000000     2.661718            6.377396        0.290184   \n",
      "25%    2009.000000     4.606351            8.310665        0.748304   \n",
      "50%    2012.000000     5.332600            9.398610        0.833047   \n",
      "75%    2015.000000     6.271025           10.190634        0.904329   \n",
      "max    2017.000000     8.018934           11.770276        0.987343   \n",
      "\n",
      "       Healthy life expectancy at birth  Freedom to make life choices  \\\n",
      "count                       1553.000000                   1533.000000   \n",
      "mean                          62.249887                      0.728975   \n",
      "std                            7.960671                      0.145408   \n",
      "min                           37.766476                      0.257534   \n",
      "25%                           57.299580                      0.633754   \n",
      "50%                           63.803192                      0.748014   \n",
      "75%                           68.098228                      0.843628   \n",
      "max                           76.536362                      0.985178   \n",
      "\n",
      "        Generosity  Perceptions of corruption  Positive affect  \\\n",
      "count  1482.000000                1472.000000      1544.000000   \n",
      "mean      0.000079                   0.753622         0.708969   \n",
      "std       0.164202                   0.185538         0.107644   \n",
      "min      -0.322952                   0.035198         0.362498   \n",
      "25%      -0.114313                   0.697359         0.621471   \n",
      "50%      -0.022638                   0.808115         0.717398   \n",
      "75%       0.094649                   0.880089         0.800858   \n",
      "max       0.677773                   0.983276         0.943621   \n",
      "\n",
      "       Negative affect  Confidence in national government  Democratic Quality  \\\n",
      "count      1550.000000                        1401.000000         1391.000000   \n",
      "mean          0.263171                           0.480207           -0.126617   \n",
      "std           0.084006                           0.190724            0.873259   \n",
      "min           0.083426                           0.068769           -2.448228   \n",
      "25%           0.204116                           0.334732           -0.772010   \n",
      "50%           0.251798                           0.463137           -0.225939   \n",
      "75%           0.311515                           0.610723            0.665944   \n",
      "max           0.704590                           0.993604            1.540097   \n",
      "\n",
      "       Delivery Quality  Standard deviation of ladder by country-year  \\\n",
      "count       1391.000000                                   1562.000000   \n",
      "mean           0.004947                                      2.003501   \n",
      "std            0.981052                                      0.379684   \n",
      "min           -2.144974                                      0.863034   \n",
      "25%           -0.717463                                      1.737934   \n",
      "50%           -0.210142                                      1.960345   \n",
      "75%            0.717996                                      2.215920   \n",
      "max            2.184725                                      3.527820   \n",
      "\n",
      "       Standard deviation/Mean of ladder by country-year  \\\n",
      "count                                        1562.000000   \n",
      "mean                                            0.387271   \n",
      "std                                             0.119007   \n",
      "min                                             0.133908   \n",
      "25%                                             0.309722   \n",
      "50%                                             0.369751   \n",
      "75%                                             0.451833   \n",
      "max                                             1.022769   \n",
      "\n",
      "       GINI index (World Bank estimate)  \\\n",
      "count                        583.000000   \n",
      "mean                           0.372846   \n",
      "std                            0.086609   \n",
      "min                            0.241000   \n",
      "25%                            0.307000   \n",
      "50%                            0.349000   \n",
      "75%                            0.433500   \n",
      "max                            0.648000   \n",
      "\n",
      "       GINI index (World Bank estimate), average 2000-15  \\\n",
      "count                                        1386.000000   \n",
      "mean                                            0.386948   \n",
      "std                                             0.083694   \n",
      "min                                             0.228833   \n",
      "25%                                             0.321583   \n",
      "50%                                             0.371000   \n",
      "75%                                             0.433104   \n",
      "max                                             0.626000   \n",
      "\n",
      "       gini of household income reported in Gallup, by wp5-year  \n",
      "count                                        1205.000000         \n",
      "mean                                            0.445204         \n",
      "std                                             0.105410         \n",
      "min                                             0.223470         \n",
      "25%                                             0.368531         \n",
      "50%                                             0.425395         \n",
      "75%                                             0.508579         \n",
      "max                                             0.961435         \n",
      "country                                                      object\n",
      "year                                                          int64\n",
      "Life Ladder                                                 float64\n",
      "Log GDP per capita                                          float64\n",
      "Social support                                              float64\n",
      "Healthy life expectancy at birth                            float64\n",
      "Freedom to make life choices                                float64\n",
      "Generosity                                                  float64\n",
      "Perceptions of corruption                                   float64\n",
      "Positive affect                                             float64\n",
      "Negative affect                                             float64\n",
      "Confidence in national government                           float64\n",
      "Democratic Quality                                          float64\n",
      "Delivery Quality                                            float64\n",
      "Standard deviation of ladder by country-year                float64\n",
      "Standard deviation/Mean of ladder by country-year           float64\n",
      "GINI index (World Bank estimate)                            float64\n",
      "GINI index (World Bank estimate), average 2000-15           float64\n",
      "gini of household income reported in Gallup, by wp5-year    float64\n",
      "dtype: object\n"
     ]
    }
   ],
   "source": [
    "#first, I want to understand the shape of this DataFrame, and the data\n",
    "print(df.shape)\n",
    "print(df.describe())\n",
    "print(df.dtypes)"
   ]
  },
  {
   "cell_type": "code",
   "execution_count": 5,
   "metadata": {},
   "outputs": [],
   "source": [
    "#To begin, I will rename the feature columns for easier clarity\n",
    "cols_to_include = ['country', 'year', 'Life Ladder', \n",
    "                   'Positive affect','Negative affect',\n",
    "                   'Log GDP per capita', 'Social support',\n",
    "                   'Healthy life expectancy at birth', \n",
    "                   'Freedom to make life choices', \n",
    "                   'Generosity', 'Perceptions of corruption']\n",
    "renaming = {'Life Ladder': 'Happiness', \n",
    "            'Log GDP per capita': 'LogGDP', \n",
    "            'Social support': 'Support', \n",
    "            'Healthy life expectancy at birth': 'Life', \n",
    "            'Freedom to make life choices': 'Freedom', \n",
    "            'Perceptions of corruption': 'Corruption', \n",
    "            'Positive affect': 'Positive', \n",
    "            'Negative affect': 'Negative'}\n",
    "df = df[cols_to_include].rename(renaming, axis=1)"
   ]
  },
  {
   "cell_type": "code",
   "execution_count": 6,
   "metadata": {},
   "outputs": [
    {
     "data": {
      "text/plain": [
       "country        0\n",
       "year           0\n",
       "Happiness      0\n",
       "Positive      18\n",
       "Negative      12\n",
       "LogGDP        27\n",
       "Support       13\n",
       "Life           9\n",
       "Freedom       29\n",
       "Generosity    80\n",
       "Corruption    90\n",
       "dtype: int64"
      ]
     },
     "execution_count": 6,
     "metadata": {},
     "output_type": "execute_result"
    }
   ],
   "source": [
    "#I will now check for missing values\n",
    "df.isna().sum()"
   ]
  },
  {
   "cell_type": "code",
   "execution_count": 7,
   "metadata": {},
   "outputs": [
    {
     "name": "stderr",
     "output_type": "stream",
     "text": [
      "/tmp/ipykernel_1556/1108398643.py:3: FutureWarning: Dropping of nuisance columns in DataFrame reductions (with 'numeric_only=None') is deprecated; in a future version this will raise TypeError.  Select only valid columns before calling the reduction.\n",
      "  df = df.fillna(df.mean())\n"
     ]
    },
    {
     "data": {
      "text/plain": [
       "country       0\n",
       "year          0\n",
       "Happiness     0\n",
       "Positive      0\n",
       "Negative      0\n",
       "LogGDP        0\n",
       "Support       0\n",
       "Life          0\n",
       "Freedom       0\n",
       "Generosity    0\n",
       "Corruption    0\n",
       "dtype: int64"
      ]
     },
     "execution_count": 7,
     "metadata": {},
     "output_type": "execute_result"
    }
   ],
   "source": [
    "#I can see that there are missing values in every column except for country, year, and happiness. \n",
    "#I will replace the missing values with the means.\n",
    "df = df.fillna(df.mean())\n",
    "df.isna().sum()"
   ]
  },
  {
   "cell_type": "code",
   "execution_count": 8,
   "metadata": {},
   "outputs": [
    {
     "name": "stdout",
     "output_type": "stream",
     "text": [
      "Original DataFrame Shape: (1562, 11)\n",
      "DataFrame Shape after Removing Outliers: (1562, 11)\n"
     ]
    }
   ],
   "source": [
    "#Now, I will address outliers\n",
    "#First, I will find the z-scores of every value in the \"Happiness\" column\n",
    "from scipy import stats\n",
    "z = np.abs(stats.zscore(df['Happiness']))\n",
    "#Now, I will define outliers as any value with a z-score of 3 or higher, and drop any\n",
    "#such values\n",
    "threshold_z = 3\n",
    " \n",
    "outlier_indices = np.where(z > threshold_z)[0]\n",
    "no_outliers = df.drop(outlier_indices)\n",
    "print(\"Original DataFrame Shape:\", df.shape)\n",
    "print(\"DataFrame Shape after Removing Outliers:\", no_outliers.shape)\n",
    "\n",
    "#It looks like there were no outliers! Let's visualize to double check\n"
   ]
  },
  {
   "cell_type": "code",
   "execution_count": 31,
   "metadata": {},
   "outputs": [
    {
     "data": {
      "text/plain": [
       "<AxesSubplot: >"
      ]
     },
     "execution_count": 31,
     "metadata": {},
     "output_type": "execute_result"
    },
    {
     "data": {
      "image/png": "[encoded data removed]",
      "text/plain": [
       "<Figure size 640x480 with 1 Axes>"
      ]
     },
     "metadata": {},
     "output_type": "display_data"
    }
   ],
   "source": [
    "import seaborn as sns\n",
    "sns.boxplot(df['Happiness'])"
   ]
  },
  {
   "cell_type": "code",
   "execution_count": 10,
   "metadata": {},
   "outputs": [
    {
     "name": "stdout",
     "output_type": "stream",
     "text": [
      "       country  year  Happiness  Positive  Negative    LogGDP   Support  \\\n",
      "0  Afghanistan  2008   3.723590  0.517637  0.258195  7.168690  0.450662   \n",
      "1  Afghanistan  2009   4.401778  0.583926  0.237092  7.333790  0.552308   \n",
      "2  Afghanistan  2010   4.758381  0.618265  0.275324  7.386629  0.539075   \n",
      "3  Afghanistan  2011   3.831719  0.611387  0.267175  7.415019  0.521104   \n",
      "4  Afghanistan  2012   3.782938  0.710385  0.267919  7.517126  0.520637   \n",
      "\n",
      "        Life   Freedom  Generosity  Corruption  \n",
      "0  49.209663  0.718114    0.181819    0.881686  \n",
      "1  49.624432  0.678896    0.203614    0.850035  \n",
      "2  50.008961  0.600127    0.137630    0.706766  \n",
      "3  50.367298  0.495901    0.175329    0.731109  \n",
      "4  50.709263  0.530935    0.247159    0.775620  \n"
     ]
    }
   ],
   "source": [
    "#Now, I will select the columns to serve as features\n",
    "print(df.head())\n",
    "feature_list = ['Positive', 'Negative', 'LogGDP', 'Support', 'Life', 'Freedom', 'Generosity', 'Corruption']\n",
    "#the country and year columns would be irrelevant here"
   ]
  },
  {
   "cell_type": "markdown",
   "metadata": {},
   "source": [
    "## Part 4: Define Your Project Plan\n",
    "\n",
    "Now that you understand your data, in the markdown cell below, define your plan to implement the remaining phases of the machine learning life cycle (data preparation, modeling, evaluation) to solve your ML problem. Answer the following questions:\n",
    "\n",
    "* Do you have a new feature list? If so, what are the features that you chose to keep and remove after inspecting the data? \n",
    "* Explain different data preparation techniques that you will use to prepare your data for modeling.\n",
    "* What is your model (or models)?\n",
    "* Describe your plan to train your model, analyze its performance and then improve the model. That is, describe your model building, validation and selection plan to produce a model that generalizes well to new data. "
   ]
  },
  {
   "cell_type": "markdown",
   "metadata": {},
   "source": [
    "After inspecting the data, I chose to keep the Positive, Negative, LogGDP, Support, Life, Freedom, Generosity, and Corruption features. As all of these features are already in float64 form, I do not need to adjust the data (e.g. binary transformation, one-hot encoding, etc, are not needed). I have already removed outliers and filled NA values. I will use a linear regression model, and use mean squared error an r-squared scores to evaluate it. I will also experiment with different feature selections to see what will work best, and experiment with an SGDRegressor as well."
   ]
  },
  {
   "cell_type": "markdown",
   "metadata": {},
   "source": [
    "## Part 5: Implement Your Project Plan\n",
    "\n",
    "<b>Task:</b> In the code cell below, import additional packages that you have used in this course that you will need to implement your project plan."
   ]
  },
  {
   "cell_type": "code",
   "execution_count": 11,
   "metadata": {},
   "outputs": [],
   "source": [
    "# YOUR CODE HERE\n",
    "from sklearn.linear_model import LinearRegression\n",
    "from sklearn.model_selection import train_test_split\n",
    "from sklearn.metrics import mean_squared_error, r2_score"
   ]
  },
  {
   "cell_type": "markdown",
   "metadata": {},
   "source": [
    "<b>Task:</b> Use the rest of this notebook to carry out your project plan. \n",
    "\n",
    "You will:\n",
    "\n",
    "1. Prepare your data for your model.\n",
    "2. Fit your model to the training data and evaluate your model.\n",
    "3. Improve your model's performance by performing model selection and/or feature selection techniques to find best model for your problem.\n",
    "\n",
    "Add code cells below and populate the notebook with commentary, code, analyses, results, and figures as you see fit. "
   ]
  },
  {
   "cell_type": "code",
   "execution_count": 12,
   "metadata": {},
   "outputs": [
    {
     "name": "stdout",
     "output_type": "stream",
     "text": [
      "      Positive  Negative    LogGDP   Support       Life   Freedom  Generosity  \\\n",
      "0     0.517637  0.258195  7.168690  0.450662  49.209663  0.718114    0.181819   \n",
      "1     0.583926  0.237092  7.333790  0.552308  49.624432  0.678896    0.203614   \n",
      "2     0.618265  0.275324  7.386629  0.539075  50.008961  0.600127    0.137630   \n",
      "3     0.611387  0.267175  7.415019  0.521104  50.367298  0.495901    0.175329   \n",
      "4     0.710385  0.267919  7.517126  0.520637  50.709263  0.530935    0.247159   \n",
      "...        ...       ...       ...       ...        ...       ...         ...   \n",
      "1557  0.711885  0.182288  7.565154  0.799274  48.949745  0.575884   -0.076716   \n",
      "1558  0.725214  0.239111  7.562753  0.765839  50.051235  0.642034   -0.045885   \n",
      "1559  0.715079  0.178861  7.556052  0.735800  50.925652  0.667193   -0.094585   \n",
      "1560  0.737636  0.208555  7.538829  0.768425  51.800068  0.732971   -0.065283   \n",
      "1561  0.806428  0.224051  7.538187  0.754147  52.674484  0.752826   -0.066005   \n",
      "\n",
      "      Corruption  \n",
      "0       0.881686  \n",
      "1       0.850035  \n",
      "2       0.706766  \n",
      "3       0.731109  \n",
      "4       0.775620  \n",
      "...          ...  \n",
      "1557    0.830937  \n",
      "1558    0.820217  \n",
      "1559    0.810457  \n",
      "1560    0.723612  \n",
      "1561    0.751208  \n",
      "\n",
      "[1562 rows x 8 columns]\n",
      "0       3.723590\n",
      "1       4.401778\n",
      "2       4.758381\n",
      "3       3.831719\n",
      "4       3.782938\n",
      "          ...   \n",
      "1557    4.690188\n",
      "1558    4.184451\n",
      "1559    3.703191\n",
      "1560    3.735400\n",
      "1561    3.638300\n",
      "Name: Happiness, Length: 1562, dtype: float64\n"
     ]
    }
   ],
   "source": [
    "#Our first step will be saving the features and label into variables X and y\n",
    "X = df[feature_list]\n",
    "y = df['Happiness']\n",
    "\n",
    "#Let's check that all saved as expected\n",
    "print(X)\n",
    "print(y)"
   ]
  },
  {
   "cell_type": "code",
   "execution_count": 13,
   "metadata": {},
   "outputs": [
    {
     "name": "stdout",
     "output_type": "stream",
     "text": [
      "(1171, 8)\n",
      "(391, 8)\n"
     ]
    }
   ],
   "source": [
    "#Now, let's create a train, test, split of the data for the model to use\n",
    "X_train, X_test, y_train, y_test = train_test_split(X, y, test_size = 0.25, random_state = 1234)\n",
    "print(X_train.shape)\n",
    "print(X_test.shape)\n"
   ]
  },
  {
   "cell_type": "code",
   "execution_count": 14,
   "metadata": {},
   "outputs": [],
   "source": [
    "#The next step will be to create the linear model\n",
    "model = LinearRegression() #currently set to defaults for hyperparameters\n",
    "#fitting to the training data\n",
    "model.fit(X_train, y_train)\n",
    "#making predictions on test data\n",
    "predictions = model.predict(X_test)\n"
   ]
  },
  {
   "cell_type": "code",
   "execution_count": 15,
   "metadata": {},
   "outputs": [
    {
     "name": "stdout",
     "output_type": "stream",
     "text": [
      "Model Summary:\n",
      "\n",
      "Intercept:\n",
      "alpha =  -2.537095730741659\n",
      "\n",
      "Weights:\n",
      "w_ 1 =  2.0903929089537123  [ weight of  Positive ]\n",
      "w_ 2 =  -0.015701109533354296  [ weight of  Negative ]\n",
      "w_ 3 =  0.3416897200366112  [ weight of  LogGDP ]\n",
      "w_ 4 =  2.026560100309394  [ weight of  Support ]\n",
      "w_ 5 =  0.027861117361199034  [ weight of  Life ]\n",
      "w_ 6 =  0.5041475092998858  [ weight of  Freedom ]\n",
      "w_ 7 =  0.3613845429017641  [ weight of  Generosity ]\n",
      "w_ 8 =  -0.5470619959446595  [ weight of  Corruption ]\n"
     ]
    }
   ],
   "source": [
    "#Now, we will observe the model parameters that resulted from the model fitting\n",
    "print('Model Summary:\\n')\n",
    "\n",
    "# Print intercept (alpha)\n",
    "print('Intercept:')\n",
    "print('alpha = ' , model.intercept_)\n",
    "\n",
    "# Print weights\n",
    "print('\\nWeights:')\n",
    "i = 0\n",
    "for w in model.coef_:\n",
    "    print('w_',i+1,'= ', w, ' [ weight of ', feature_list[i],']')\n",
    "    i += 1"
   ]
  },
  {
   "cell_type": "code",
   "execution_count": 16,
   "metadata": {},
   "outputs": [
    {
     "data": {
      "text/plain": [
       "[<matplotlib.lines.Line2D at 0x7d2398f0f4f0>]"
      ]
     },
     "execution_count": 16,
     "metadata": {},
     "output_type": "execute_result"
    },
    {
     "data": {
      "image/png": "[encoded data removed]",
      "text/plain": [
       "<Figure size 640x480 with 1 Axes>"
      ]
     },
     "metadata": {},
     "output_type": "display_data"
    }
   ],
   "source": [
    "#It is interesting to see which features have much higher weights and which have much lower\n",
    "#This could be relevant information for further feature selection later\n",
    "\n",
    "#Next, we will quickly do a simple visual of the model performance before moving\n",
    "#into formalized evaluation metrics\n",
    "chart_data = predictions - y_test\n",
    "x = range(len(chart_data))\n",
    "plt.title('Disparity Between Model Prediction and Test Data for Country Happiness')\n",
    "plt.xlabel('Data Point #')\n",
    "plt.ylabel(\"Difference Between Prediction and Actual Value\")\n",
    "plt.ylim(-3, 3)\n",
    "a, b = np.polyfit(x, chart_data, 1)\n",
    "plt.scatter(x, chart_data)\n",
    "plt.plot(x, a*x+b, color = 'black', linewidth = 3)\n"
   ]
  },
  {
   "cell_type": "code",
   "execution_count": 17,
   "metadata": {},
   "outputs": [
    {
     "name": "stdout",
     "output_type": "stream",
     "text": [
      "\n",
      "Model Performance\n",
      "\n",
      "RMSE =   0.55\n",
      " R^2 =   0.77\n"
     ]
    }
   ],
   "source": [
    "#Now, let's observe the mean squared error and r-squared values\n",
    "print('\\nModel Performance\\n\\nRMSE =   %.2f'\n",
    "      % np.sqrt(mean_squared_error(y_test, predictions)))\n",
    "print(' R^2 =   %.2f'\n",
    "      % r2_score(y_test, predictions))"
   ]
  },
  {
   "cell_type": "code",
   "execution_count": 18,
   "metadata": {},
   "outputs": [
    {
     "name": "stdout",
     "output_type": "stream",
     "text": [
      "\n",
      "Weights:\n",
      "w_ 1 =  2.0903929089537123  [ weight of  Positive ]\n",
      "w_ 2 =  -0.015701109533354296  [ weight of  Negative ]\n",
      "w_ 3 =  0.3416897200366112  [ weight of  LogGDP ]\n",
      "w_ 4 =  2.026560100309394  [ weight of  Support ]\n",
      "w_ 5 =  0.027861117361199034  [ weight of  Life ]\n",
      "w_ 6 =  0.5041475092998858  [ weight of  Freedom ]\n",
      "w_ 7 =  0.3613845429017641  [ weight of  Generosity ]\n",
      "w_ 8 =  -0.5470619959446595  [ weight of  Corruption ]\n"
     ]
    }
   ],
   "source": [
    "#The r-squared score of 0.77 is a good score, and we can see that the model predictions\n",
    "#are not too far off. But let's see if we can improve it with better feature selection.\n",
    "\n",
    "#Let's revisit the model weights and try dropping some features that have statistically\n",
    "#insignificant weights\n",
    "print('\\nWeights:')\n",
    "i = 0\n",
    "for w in model.coef_:\n",
    "    print('w_',i+1,'= ', w, ' [ weight of ', feature_list[i],']')\n",
    "    i += 1"
   ]
  },
  {
   "cell_type": "code",
   "execution_count": 19,
   "metadata": {},
   "outputs": [],
   "source": [
    "#we've dropped Negative and Life\n",
    "feature_list2= ['Positive', 'LogGDP', 'Support', 'Freedom', 'Generosity', 'Corruption']\n",
    "X2 = df[feature_list2]"
   ]
  },
  {
   "cell_type": "code",
   "execution_count": 20,
   "metadata": {},
   "outputs": [
    {
     "name": "stdout",
     "output_type": "stream",
     "text": [
      "(1171, 6)\n",
      "(391, 6)\n"
     ]
    }
   ],
   "source": [
    "X2_train, X2_test, y2_train, y2_test = train_test_split(X2, y, test_size=0.25, random_state=1234)\n",
    "print(X2_train.shape)\n",
    "print(X2_test.shape)"
   ]
  },
  {
   "cell_type": "code",
   "execution_count": 21,
   "metadata": {},
   "outputs": [],
   "source": [
    "model2 = LinearRegression() #currently set to defaults for hyperparameters\n",
    "#fitting to the training data\n",
    "model2.fit(X2_train, y2_train)\n",
    "#making predictions on test data\n",
    "predictions = model2.predict(X2_test)\n"
   ]
  },
  {
   "cell_type": "code",
   "execution_count": 22,
   "metadata": {},
   "outputs": [
    {
     "name": "stdout",
     "output_type": "stream",
     "text": [
      "Model Summary:\n",
      "\n",
      "Intercept:\n",
      "alpha =  -2.234109073258052\n",
      "\n",
      "Weights:\n",
      "w_ 1 =  2.0685371971678292  [ weight of  Positive ]\n",
      "w_ 2 =  0.4859933709554909  [ weight of  Negative ]\n",
      "w_ 3 =  2.1638067481840877  [ weight of  LogGDP ]\n",
      "w_ 4 =  0.5287343192866663  [ weight of  Support ]\n",
      "w_ 5 =  0.4118601230816975  [ weight of  Life ]\n",
      "w_ 6 =  -0.5687602296529375  [ weight of  Freedom ]\n"
     ]
    }
   ],
   "source": [
    "print('Model Summary:\\n')\n",
    "\n",
    "# Print intercept (alpha)\n",
    "print('Intercept:')\n",
    "print('alpha = ' , model2.intercept_)\n",
    "\n",
    "# Print weights\n",
    "print('\\nWeights:')\n",
    "i = 0\n",
    "for w in model2.coef_:\n",
    "    print('w_',i+1,'= ', w, ' [ weight of ', feature_list[i],']')\n",
    "    i += 1"
   ]
  },
  {
   "cell_type": "code",
   "execution_count": 23,
   "metadata": {},
   "outputs": [
    {
     "name": "stdout",
     "output_type": "stream",
     "text": [
      "\n",
      "Model Performance\n",
      "\n",
      "RMSE =   0.56\n",
      " R^2 =   0.77\n"
     ]
    }
   ],
   "source": [
    "print('\\nModel Performance\\n\\nRMSE =   %.2f'\n",
    "      % np.sqrt(mean_squared_error(y_test, predictions)))\n",
    "print(' R^2 =   %.2f'\n",
    "      % r2_score(y_test, predictions))"
   ]
  },
  {
   "cell_type": "code",
   "execution_count": 24,
   "metadata": {},
   "outputs": [],
   "source": [
    "#We can see that R-squared did not improve, and mean squared error actually increased\n",
    "#Thus removing features will not improve the model\n",
    "\n",
    "#What about adding back features? Does year have any predictitive power?\n",
    "\n",
    "feature_list.append('year')\n",
    "X = df[feature_list]\n",
    "y = df['Happiness']"
   ]
  },
  {
   "cell_type": "code",
   "execution_count": 25,
   "metadata": {},
   "outputs": [
    {
     "name": "stdout",
     "output_type": "stream",
     "text": [
      "(1171, 9)\n",
      "(391, 9)\n"
     ]
    }
   ],
   "source": [
    "X_train, X_test, y_train, y_test = train_test_split(X, y, test_size = 0.25, random_state = 1234)\n",
    "print(X_train.shape)\n",
    "print(X_test.shape)"
   ]
  },
  {
   "cell_type": "code",
   "execution_count": 26,
   "metadata": {},
   "outputs": [],
   "source": [
    "from sklearn.linear_model import SGDRegressor\n",
    "from sklearn.model_selection import GridSearchCV"
   ]
  },
  {
   "cell_type": "code",
   "execution_count": 27,
   "metadata": {},
   "outputs": [
    {
     "name": "stdout",
     "output_type": "stream",
     "text": [
      "Best parameters: {'alpha': 1, 'eta0': 0.01, 'learning_rate': 'optimal', 'max_iter': 10000, 'penalty': 'elasticnet'}\n",
      "Best score: -1.1624310137610671e+26\n"
     ]
    }
   ],
   "source": [
    "#Let's attempt with a SGDRegressor model to see if it performs better than\n",
    "# the linear regression model.\n",
    "\n",
    "sgd_regressor = SGDRegressor()\n",
    "\n",
    "# Define parameter grid\n",
    "param_grid = {\n",
    "    'alpha': [0.0001, 0.001, 0.01, 0.1, 1],\n",
    "    'max_iter': [4000, 6000, 8000, 10000],\n",
    "    'penalty': ['l2', 'l1', 'elasticnet'],\n",
    "    'learning_rate': ['constant', 'optimal', 'invscaling'],\n",
    "    'eta0': [0.001, 0.01, 0.1]\n",
    "}\n",
    "\n",
    "# Set up GridSearchCV\n",
    "grid_search = GridSearchCV(sgd_regressor, param_grid, cv=5, n_jobs=-1, scoring='neg_mean_squared_error')\n",
    "\n",
    "# Fit GridSearchCV\n",
    "grid_search.fit(X_train, y_train)\n",
    "\n",
    "# Get best parameters\n",
    "print(\"Best parameters:\", grid_search.best_params_)\n",
    "print(\"Best score:\", grid_search.best_score_)"
   ]
  },
  {
   "cell_type": "code",
   "execution_count": 28,
   "metadata": {},
   "outputs": [],
   "source": [
    "# We see than an SGDRegressor performs very poorly on this data even with the best parameters \n",
    "# specified.\n",
    "# In conclusion, the original linear model performs best on the data as established.\n",
    "# Thus we have our machine learning model, the original linear regression model, fully trained\n",
    "# on the World Happiness Dataset."
   ]
  }
 ],
 "metadata": {
  "kernelspec": {
   "display_name": "Python 3 (ipykernel)",
   "language": "python",
   "name": "python3"
  },
  "language_info": {
   "codemirror_mode": {
    "name": "ipython",
    "version": 3
   },
   "file_extension": ".py",
   "mimetype": "text/x-python",
   "name": "python",
   "nbconvert_exporter": "python",
   "pygments_lexer": "ipython3",
   "version": "3.9.19"
  },
  "toc": {
   "base_numbering": 1,
   "nav_menu": {},
   "number_sections": false,
   "sideBar": true,
   "skip_h1_title": false,
   "title_cell": "Table of Contents",
   "title_sidebar": "Contents",
   "toc_cell": false,
   "toc_position": {},
   "toc_section_display": true,
   "toc_window_display": false
  },
  "varInspector": {
   "cols": {
    "lenName": 16,
    "lenType": 16,
    "lenVar": 40
   },
   "kernels_config": {
    "python": {
     "delete_cmd_postfix": "",
     "delete_cmd_prefix": "del ",
     "library": "var_list.py",
     "varRefreshCmd": "print(var_dic_list())"
    },
    "r": {
     "delete_cmd_postfix": ") ",
     "delete_cmd_prefix": "rm(",
     "library": "var_list.r",
     "varRefreshCmd": "cat(var_dic_list()) "
    }
   },
   "types_to_exclude": [
    "module",
    "function",
    "builtin_function_or_method",
    "instance",
    "_Feature"
   ],
   "window_display": false
  }
 },
 "nbformat": 4,
 "nbformat_minor": 4
}
